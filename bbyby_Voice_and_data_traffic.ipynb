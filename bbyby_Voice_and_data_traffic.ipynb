{
  "nbformat": 4,
  "nbformat_minor": 0,
  "metadata": {
    "colab": {
      "name": "Anna_PySpark_voice_traffic",
      "provenance": [],
      "collapsed_sections": []
    },
    "kernelspec": {
      "name": "python3",
      "display_name": "Python 3"
    }
  },
  "cells": [
    {
      "cell_type": "markdown",
      "metadata": {
        "id": "sq8U3BtmhtRx"
      },
      "source": [
        "\n",
        "# **Running Pyspark in Colab**"
      ]
    },
    {
      "cell_type": "code",
      "metadata": {
        "id": "lh5NCoc8fsSO"
      },
      "source": [
        "!apt-get install openjdk-8-jdk-headless -qq > /dev/null\n",
        "!wget -q https://archive.apache.org/dist/spark/spark-3.0.0/spark-3.0.0-bin-hadoop3.2.tgz\n",
        "!tar xf spark-3.0.0-bin-hadoop3.2.tgz\n",
        "!pip install -q findspark\n",
        "\n",
        "# see: https://stackoverflow.com/questions/55240940/error-while-installing-spark-on-google-colab"
      ],
      "execution_count": 1,
      "outputs": []
    },
    {
      "cell_type": "code",
      "metadata": {
        "id": "v1b8k_OVf2QF"
      },
      "source": [
        "import os\n",
        "os.environ[\"JAVA_HOME\"] = \"/usr/lib/jvm/java-8-openjdk-amd64\"\n",
        "os.environ[\"SPARK_HOME\"] = \"/content/spark-3.0.0-bin-hadoop3.2\""
      ],
      "execution_count": 2,
      "outputs": []
    },
    {
      "cell_type": "code",
      "metadata": {
        "id": "9_Uz1NL4gHFx"
      },
      "source": [
        "import findspark\n",
        "findspark.init()\n",
        "from pyspark.sql import SparkSession\n",
        "spark = SparkSession.builder.master(\"local[*]\").getOrCreate()"
      ],
      "execution_count": 3,
      "outputs": []
    },
    {
      "cell_type": "markdown",
      "metadata": {
        "id": "UaYpd5iMKe6m"
      },
      "source": [
        "### Download data from drive"
      ]
    },
    {
      "cell_type": "code",
      "metadata": {
        "colab": {
          "base_uri": "https://localhost:8080/"
        },
        "id": "1sW120DoJARf",
        "outputId": "9a5897a2-dc0e-41e2-bc3b-1c8ff2e86ab3"
      },
      "source": [
        "import zipfile # Библиотека для работы с zip архивами\n",
        "import os      # Библиотека для работы с фаловой системой \n",
        "import time    # Библиотека для работы со временем\n",
        "\n",
        "from google.colab import drive # Модуль для работы с Google Disk\n",
        "# Подключаем гугл диск\n",
        "drive.mount('/content/drive')"
      ],
      "execution_count": 4,
      "outputs": [
        {
          "output_type": "stream",
          "name": "stdout",
          "text": [
            "Drive already mounted at /content/drive; to attempt to forcibly remount, call drive.mount(\"/content/drive\", force_remount=True).\n"
          ]
        }
      ]
    },
    {
      "cell_type": "code",
      "metadata": {
        "colab": {
          "base_uri": "https://localhost:8080/"
        },
        "id": "JbUEw92ELXny",
        "outputId": "114469d9-25dd-4d8c-ea22-0520ebff0d2b"
      },
      "source": [
        "# Прописываем путь к файлу с архивом\n",
        "zip_file = '/content/drive/My Drive/bee/datasets.zip'  \n",
        "\n",
        "# Распаковываем архив\n",
        "z = zipfile.ZipFile(zip_file, 'r')\n",
        "z.extractall()\n",
        "\n",
        "# Просмотр результата разархивации\n",
        "print(os.listdir())"
      ],
      "execution_count": 5,
      "outputs": [
        {
          "output_type": "stream",
          "name": "stdout",
          "text": [
            "['.config', 'drive', 'spark-3.0.0-bin-hadoop3.2', 'mobile_client.json', 'spark-3.0.0-bin-hadoop3.2.tgz', 'aerospike.tgz', 'parent_operator.csv', 'aerospike-server-community-5.7.0.8-ubuntu18.04', 'agg_usage.parquet', 'web_client.json', 'spark-3.0.0-bin-hadoop3.2.tgz.1', 'sample_data']\n"
          ]
        }
      ]
    },
    {
      "cell_type": "markdown",
      "metadata": {
        "id": "4hkjTJlFQICx"
      },
      "source": [
        "### Read spravochik"
      ]
    },
    {
      "cell_type": "code",
      "metadata": {
        "id": "WF_YCZwyQMVJ"
      },
      "source": [
        "operators = spark.read.csv(\"parent_operator.csv\", header=True, inferSchema=True)"
      ],
      "execution_count": 6,
      "outputs": []
    },
    {
      "cell_type": "code",
      "metadata": {
        "colab": {
          "base_uri": "https://localhost:8080/"
        },
        "id": "VjQFdlucQi_J",
        "outputId": "605cab04-e9c1-4b66-e13d-39451e2d0e92"
      },
      "source": [
        "#operators.show(5, truncate=False)"
      ],
      "execution_count": 7,
      "outputs": [
        {
          "output_type": "stream",
          "name": "stdout",
          "text": [
            "+--------------------+--------------------+-------------------+---------------+-----------------------+------------------+\n",
            "|parent_operator_name|parent_operator_code|group_operator_code|land_mobile_ind|as_default_operator_ind|ofa_operator_group|\n",
            "+--------------------+--------------------+-------------------+---------------+-----------------------+------------------+\n",
            "|operator_198        |198                 |null               |1.0            |null                   |null              |\n",
            "|operator_199        |199                 |null               |1.0            |null                   |null              |\n",
            "|operator_200        |200                 |null               |1.0            |null                   |null              |\n",
            "|operator_202        |202                 |null               |1.0            |null                   |null              |\n",
            "|operator_876        |876                 |null               |null           |null                   |null              |\n",
            "+--------------------+--------------------+-------------------+---------------+-----------------------+------------------+\n",
            "only showing top 5 rows\n",
            "\n"
          ]
        }
      ]
    },
    {
      "cell_type": "code",
      "metadata": {
        "colab": {
          "base_uri": "https://localhost:8080/"
        },
        "id": "tA37aD1yQq37",
        "outputId": "b1c3ca90-0b27-43ff-b472-d1ba892d29f5"
      },
      "source": [
        "#operators.printSchema()"
      ],
      "execution_count": 8,
      "outputs": [
        {
          "output_type": "stream",
          "name": "stdout",
          "text": [
            "root\n",
            " |-- parent_operator_name: string (nullable = true)\n",
            " |-- parent_operator_code: string (nullable = true)\n",
            " |-- group_operator_code: string (nullable = true)\n",
            " |-- land_mobile_ind: double (nullable = true)\n",
            " |-- as_default_operator_ind: string (nullable = true)\n",
            " |-- ofa_operator_group: string (nullable = true)\n",
            "\n"
          ]
        }
      ]
    },
    {
      "cell_type": "markdown",
      "metadata": {
        "id": "pP_6TnX9LgfW"
      },
      "source": [
        "### Read parquet"
      ]
    },
    {
      "cell_type": "code",
      "metadata": {
        "id": "JAPBLF7HUgvY"
      },
      "source": [
        "dataset = spark.read.parquet(\"agg_usage.parquet\")"
      ],
      "execution_count": 9,
      "outputs": []
    },
    {
      "cell_type": "code",
      "metadata": {
        "colab": {
          "base_uri": "https://localhost:8080/"
        },
        "id": "FGtyFMsFUtSY",
        "outputId": "24f64ce6-793b-49e7-c10b-8d7edd7ce6e5"
      },
      "source": [
        "#dataset.show(5, truncate=False)"
      ],
      "execution_count": 10,
      "outputs": [
        {
          "output_type": "stream",
          "name": "stdout",
          "text": [
            "+-------------------+------------------+-------------+--------------+-------------------+-----------------+------------+-----------+----------------------+----------------+--------------------+---------+---------+\n",
            "|actual_call_dur_sec|call_direction_ind|call_type_key|charge_amt_rur|connection_type_key|location_type_key|network_type|num_of_call|parent_operator_code_b|roaming_type_key|rounded_data_volume |time_key |client_id|\n",
            "+-------------------+------------------+-------------+--------------+-------------------+-----------------+------------+-----------+----------------------+----------------+--------------------+---------+---------+\n",
            "|115.0              |1                 |V            |0.0           |3                  |2                |G           |1.0        |136                   |H               |1.817427842689825   |P20171025|0728799  |\n",
            "|122.0              |2                 |V            |0.0           |3                  |2                |G           |1.0        |130                   |H               |1.817427842689825   |P20171025|0728799  |\n",
            "|48278.0            |3                 |G            |0.0           |X                  |X                |L           |3.0        |-99                   |H               |1.0806536452246535E8|P20171025|0728799  |\n",
            "|15150.0            |3                 |G            |0.0           |X                  |X                |L           |2.0        |-99                   |H               |1.1561004545611225E8|P20171025|0728799  |\n",
            "|21698.0            |3                 |G            |0.0           |X                  |X                |L           |1.0        |-99                   |H               |2.8808993796954613E7|P20171025|0728799  |\n",
            "+-------------------+------------------+-------------+--------------+-------------------+-----------------+------------+-----------+----------------------+----------------+--------------------+---------+---------+\n",
            "only showing top 5 rows\n",
            "\n"
          ]
        }
      ]
    },
    {
      "cell_type": "code",
      "metadata": {
        "id": "Gok1FXWugYkE",
        "colab": {
          "base_uri": "https://localhost:8080/"
        },
        "outputId": "2466b2d4-eb1e-4fb2-9516-224f36f0ef92"
      },
      "source": [
        "#dataset.printSchema()"
      ],
      "execution_count": 11,
      "outputs": [
        {
          "output_type": "stream",
          "name": "stdout",
          "text": [
            "root\n",
            " |-- actual_call_dur_sec: double (nullable = true)\n",
            " |-- call_direction_ind: string (nullable = true)\n",
            " |-- call_type_key: string (nullable = true)\n",
            " |-- charge_amt_rur: double (nullable = true)\n",
            " |-- connection_type_key: string (nullable = true)\n",
            " |-- location_type_key: string (nullable = true)\n",
            " |-- network_type: string (nullable = true)\n",
            " |-- num_of_call: double (nullable = true)\n",
            " |-- parent_operator_code_b: string (nullable = true)\n",
            " |-- roaming_type_key: string (nullable = true)\n",
            " |-- rounded_data_volume: double (nullable = true)\n",
            " |-- time_key: string (nullable = true)\n",
            " |-- client_id: string (nullable = true)\n",
            "\n"
          ]
        }
      ]
    },
    {
      "cell_type": "markdown",
      "metadata": {
        "id": "zIY-P7ZqQvXr"
      },
      "source": [
        "### Join parquet and csv"
      ]
    },
    {
      "cell_type": "code",
      "metadata": {
        "id": "-VZKVqVAQyWd"
      },
      "source": [
        "dataset = dataset.join(operators,\n",
        "                       dataset.parent_operator_code_b == operators.parent_operator_code,\n",
        "                       how = 'left_outer')"
      ],
      "execution_count": 12,
      "outputs": []
    },
    {
      "cell_type": "code",
      "metadata": {
        "colab": {
          "base_uri": "https://localhost:8080/"
        },
        "id": "3L5zutSQRUmY",
        "outputId": "976597ff-c280-494b-ca7d-a8e55d467924"
      },
      "source": [
        "#dataset.show(5, truncate=False)"
      ],
      "execution_count": 13,
      "outputs": [
        {
          "output_type": "stream",
          "name": "stdout",
          "text": [
            "+-------------------+------------------+-------------+--------------+-------------------+-----------------+------------+-----------+----------------------+----------------+--------------------+---------+---------+--------------------+--------------------+-------------------+---------------+-----------------------+------------------+\n",
            "|actual_call_dur_sec|call_direction_ind|call_type_key|charge_amt_rur|connection_type_key|location_type_key|network_type|num_of_call|parent_operator_code_b|roaming_type_key|rounded_data_volume |time_key |client_id|parent_operator_name|parent_operator_code|group_operator_code|land_mobile_ind|as_default_operator_ind|ofa_operator_group|\n",
            "+-------------------+------------------+-------------+--------------+-------------------+-----------------+------------+-----------+----------------------+----------------+--------------------+---------+---------+--------------------+--------------------+-------------------+---------------+-----------------------+------------------+\n",
            "|115.0              |1                 |V            |0.0           |3                  |2                |G           |1.0        |136                   |H               |1.817427842689825   |P20171025|0728799  |operator_136        |136                 |OP3                |1.0            |null                   |null              |\n",
            "|122.0              |2                 |V            |0.0           |3                  |2                |G           |1.0        |130                   |H               |1.817427842689825   |P20171025|0728799  |operator_130        |130                 |BLN                |3.0            |null                   |null              |\n",
            "|48278.0            |3                 |G            |0.0           |X                  |X                |L           |3.0        |-99                   |H               |1.0806536452246535E8|P20171025|0728799  |null                |null                |null               |null           |null                   |null              |\n",
            "|15150.0            |3                 |G            |0.0           |X                  |X                |L           |2.0        |-99                   |H               |1.1561004545611225E8|P20171025|0728799  |null                |null                |null               |null           |null                   |null              |\n",
            "|21698.0            |3                 |G            |0.0           |X                  |X                |L           |1.0        |-99                   |H               |2.8808993796954613E7|P20171025|0728799  |null                |null                |null               |null           |null                   |null              |\n",
            "+-------------------+------------------+-------------+--------------+-------------------+-----------------+------------+-----------+----------------------+----------------+--------------------+---------+---------+--------------------+--------------------+-------------------+---------------+-----------------------+------------------+\n",
            "only showing top 5 rows\n",
            "\n"
          ]
        }
      ]
    },
    {
      "cell_type": "code",
      "metadata": {
        "colab": {
          "base_uri": "https://localhost:8080/"
        },
        "id": "9B7GslURRYNi",
        "outputId": "83d78e46-2ea5-4422-fe20-1166a5562dc1"
      },
      "source": [
        "#dataset.printSchema()"
      ],
      "execution_count": 14,
      "outputs": [
        {
          "output_type": "stream",
          "name": "stdout",
          "text": [
            "root\n",
            " |-- actual_call_dur_sec: double (nullable = true)\n",
            " |-- call_direction_ind: string (nullable = true)\n",
            " |-- call_type_key: string (nullable = true)\n",
            " |-- charge_amt_rur: double (nullable = true)\n",
            " |-- connection_type_key: string (nullable = true)\n",
            " |-- location_type_key: string (nullable = true)\n",
            " |-- network_type: string (nullable = true)\n",
            " |-- num_of_call: double (nullable = true)\n",
            " |-- parent_operator_code_b: string (nullable = true)\n",
            " |-- roaming_type_key: string (nullable = true)\n",
            " |-- rounded_data_volume: double (nullable = true)\n",
            " |-- time_key: string (nullable = true)\n",
            " |-- client_id: string (nullable = true)\n",
            " |-- parent_operator_name: string (nullable = true)\n",
            " |-- parent_operator_code: string (nullable = true)\n",
            " |-- group_operator_code: string (nullable = true)\n",
            " |-- land_mobile_ind: double (nullable = true)\n",
            " |-- as_default_operator_ind: string (nullable = true)\n",
            " |-- ofa_operator_group: string (nullable = true)\n",
            "\n"
          ]
        }
      ]
    },
    {
      "cell_type": "markdown",
      "metadata": {
        "id": "_kzltAwbhMy-"
      },
      "source": [
        "### Create dataset data_traffic"
      ]
    },
    {
      "cell_type": "code",
      "metadata": {
        "id": "Z1LaegGTMamV"
      },
      "source": [
        "import pyspark.sql.functions as F\n",
        "from pyspark.sql.types import DoubleType"
      ],
      "execution_count": 15,
      "outputs": []
    },
    {
      "cell_type": "code",
      "metadata": {
        "id": "019qEpcIhTJy"
      },
      "source": [
        "# rounded_data_volume agg-s\n",
        "\n",
        "names_volume = [\"data_4g_mb\", \"data_all_mb\", \"data_3g_mb\"]\n",
        "all_conds = []\n",
        "\n",
        "data_4g_mb = (F.col(\"call_type_key\").isin(['G', 'Y', 'X'])) &\\\n",
        "(F.col(\"roaming_type_key\").isin(['X', 'R', 'H'])) &\\\n",
        "(F.col(\"network_type\") == 'L')\n",
        "all_conds.append(data_4g_mb)\n",
        "\n",
        "data_all_mb = (F.col(\"call_type_key\").isin(['G', 'Y', 'X'])) &\\\n",
        "(F.col(\"roaming_type_key\").isin(['X', 'R', 'H']))\n",
        "all_conds.append(data_all_mb)\n",
        "\n",
        "data_3g_mb = (F.col(\"call_type_key\").isin(['G', 'Y', 'X'])) &\\\n",
        "(F.col(\"roaming_type_key\").isin(['X', 'R', 'H'])) &\\\n",
        "(F.col(\"network_type\") == 'G')\n",
        "all_conds.append(data_3g_mb)\n",
        "\n",
        "# convert from bytes to mbytes\n",
        "exprs_data_volume = [F.sum(F.when(all_conds[x], F.col(\"rounded_data_volume\")/1048576)).cast(\"double\").alias(names_volume[x]) \\\n",
        "         for x in range(len(all_conds))]"
      ],
      "execution_count": 16,
      "outputs": []
    },
    {
      "cell_type": "code",
      "metadata": {
        "colab": {
          "base_uri": "https://localhost:8080/"
        },
        "id": "9T-CTlwEhTlm",
        "outputId": "52486224-c70a-4e3f-8119-ec169d1efe50"
      },
      "source": [
        "data_traffic = dataset.groupby(\"client_id\", \"time_key\")\\\n",
        ".agg(*exprs_data_volume)\\\n",
        ".select([\"client_id\", \"time_key\"] + names_volume)\n",
        "\n",
        "time_expr = F.to_timestamp(F.col(\"time_key\").substr(2, 8), 'yyyyMMdd')\n",
        "data_traffic = data_traffic.withColumn(\"time_key\",\n",
        "                                       time_expr.substr(1, 10))\n",
        "\n",
        "#data_traffic.show(10, truncate=False)"
      ],
      "execution_count": 17,
      "outputs": [
        {
          "output_type": "stream",
          "name": "stdout",
          "text": [
            "+---------+----------+------------------+------------------+------------------+\n",
            "|client_id|time_key  |data_4g_mb        |data_all_mb       |data_3g_mb        |\n",
            "+---------+----------+------------------+------------------+------------------+\n",
            "|0730208  |2017-10-25|108.13695664004459|108.13695664004459|null              |\n",
            "|0725527  |2017-10-21|948.3228443579095 |985.8001942858766 |37.47734992796713 |\n",
            "|0734188  |2017-10-20|2353.989691438321 |2867.961480048383 |513.9717886100623 |\n",
            "|0733202  |2017-10-21|495.96789404341615|538.040283702559  |42.07238965914287 |\n",
            "|0733561  |2017-10-24|null              |null              |null              |\n",
            "|0722239  |2017-10-25|null              |960.5745088091671 |960.5745088091671 |\n",
            "|0731839  |2017-10-26|6496.493439448048 |6496.493439448048 |null              |\n",
            "|0732443  |2017-10-20|267.8274548295143 |335.4308010483185 |67.60334621880413 |\n",
            "|0719068  |2017-10-25|185.8319969150346 |186.74071083637952|0.9087139213449125|\n",
            "|0728085  |2017-10-21|null              |null              |null              |\n",
            "+---------+----------+------------------+------------------+------------------+\n",
            "only showing top 10 rows\n",
            "\n"
          ]
        }
      ]
    },
    {
      "cell_type": "markdown",
      "metadata": {
        "id": "UM1sn9ARMU5m"
      },
      "source": [
        "### Create dataset voice_traffic"
      ]
    },
    {
      "cell_type": "code",
      "metadata": {
        "id": "D2BQIa28SDYJ"
      },
      "source": [
        "# num_of_call agg-s\n",
        "\n",
        "names_call = [\"voice_in_cnt\", \"voice_onnet_in_cnt\", \n",
        "              \"voice_intercity_in_cnt\", \"voice_onnet_out_cnt\", \n",
        "              \"voice_out_cnt\", \"voice_intercity_out_cnt\",\n",
        "              \"voice_intenational_in_cnt\"]\n",
        "all_conds = []\n",
        "\n",
        "voice_in_cnt = (F.col(\"call_direction_ind\") == 1)\n",
        "all_conds.append(voice_in_cnt)\n",
        "\n",
        "voice_onnet_in_cnt = (F.col(\"call_type_key\") == 'V') &\\\n",
        "(F.col(\"call_direction_ind\") == 1) &\\\n",
        "(F.col(\"connection_type_key\") == 3) &\\\n",
        "(F.col(\"group_operator_code\") == 'BLN')\n",
        "all_conds.append(voice_onnet_in_cnt)\n",
        "\n",
        "voice_intercity_in_cnt = (F.col(\"location_type_key\") == 1) &\\\n",
        "(F.col(\"call_direction_ind\") == 1)\n",
        "all_conds.append(voice_intercity_in_cnt)\n",
        "\n",
        "voice_onnet_out_cnt = (F.col(\"call_type_key\") == 'V') &\\\n",
        "(F.col(\"call_direction_ind\") == 2) &\\\n",
        "(F.col(\"connection_type_key\") == 3) &\\\n",
        "(F.col(\"group_operator_code\") == 'BLN')\n",
        "all_conds.append(voice_onnet_out_cnt)\n",
        "\n",
        "voice_out_cnt = (F.col(\"call_direction_ind\") == 2)\n",
        "all_conds.append(voice_out_cnt)\n",
        "\n",
        "voice_intercity_out_cnt = (F.col(\"location_type_key\") == 1) &\\\n",
        "(F.col(\"call_direction_ind\") == 2)\n",
        "all_conds.append(voice_intercity_out_cnt)\n",
        "\n",
        "# здесь была ошибка в описании в ТЗ\n",
        "voice_intenational_in_cnt = (F.col(\"location_type_key\") == 3) &\\\n",
        "(F.col(\"call_direction_ind\") == 1)\n",
        "all_conds.append(voice_intenational_in_cnt)\n",
        "\n",
        "exprs_num_of_calls = [F.sum(F.when(all_conds[x], F.col(\"num_of_call\"))).cast(\"double\").alias(names_call[x]) \\\n",
        "         for x in range(len(all_conds))]"
      ],
      "execution_count": 18,
      "outputs": []
    },
    {
      "cell_type": "code",
      "metadata": {
        "id": "RTOdD7PjSDR4"
      },
      "source": [
        "# actual_call_dur_sec agg-s\n",
        "\n",
        "names_sec = [\"voice_international_in_sec\", \"voice_intercity_out_sec\", \n",
        "             \"voice_out_sec\", \"voice_out_nopackage_sec\", \n",
        "             \"voice_international_out_cnt\", \"voice_onnet_out_sec\",\n",
        "             \"voice_in_sec\", \"voice_onnet_in_sec\",\n",
        "             \"voice_intercity_in_sec\", \"voice_international_out_sec\"]\n",
        "all_conds = []\n",
        "\n",
        "voice_international_in_sec = (F.col(\"location_type_key\") == 3) &\\\n",
        "(F.col(\"call_direction_ind\") == 1)\n",
        "all_conds.append(voice_international_in_sec)\n",
        "\n",
        "voice_intercity_out_sec = (F.col(\"location_type_key\") == 1) &\\\n",
        "(F.col(\"call_direction_ind\") == 2)\n",
        "all_conds.append(voice_intercity_out_sec)\n",
        "\n",
        "voice_out_sec = (F.col(\"call_direction_ind\") == 2)\n",
        "all_conds.append(voice_out_sec)\n",
        "\n",
        "voice_out_nopackage_sec = (F.col(\"call_direction_ind\") == 2) &\\\n",
        "(F.col(\"charge_amt_rur\") > 0)\n",
        "all_conds.append(voice_out_nopackage_sec)\n",
        "\n",
        "voice_international_out_cnt = (F.col(\"location_type_key\") == 3) &\\\n",
        "(F.col(\"call_direction_ind\") == 2)\n",
        "all_conds.append(voice_international_out_cnt)\n",
        "\n",
        "voice_onnet_out_sec = (F.col(\"call_type_key\") == 'V') &\\\n",
        "(F.col(\"call_direction_ind\") == 2) &\\\n",
        "(F.col(\"connection_type_key\") == 3) &\\\n",
        "(F.col(\"group_operator_code\") == 'BLN')\n",
        "all_conds.append(voice_onnet_out_sec)\n",
        "\n",
        "voice_in_sec = (F.col(\"call_direction_ind\") == 1)\n",
        "all_conds.append(voice_in_sec)\n",
        "\n",
        "voice_onnet_in_sec = (F.col(\"call_type_key\") == 'V') &\\\n",
        "(F.col(\"call_direction_ind\") == 1) &\\\n",
        "(F.col(\"connection_type_key\") == 3) &\\\n",
        "(F.col(\"group_operator_code\") == 'BLN')\n",
        "all_conds.append(voice_onnet_in_sec)\n",
        "\n",
        "voice_intercity_in_sec = (F.col(\"location_type_key\") == 1) &\\\n",
        "(F.col(\"call_direction_ind\") == 1)\n",
        "all_conds.append(voice_intercity_in_sec)\n",
        "\n",
        "voice_international_out_sec = (F.col(\"location_type_key\") == 3) &\\\n",
        "(F.col(\"call_direction_ind\") == 2)\n",
        "all_conds.append(voice_international_out_sec)\n",
        "\n",
        "exprs_actual_call_dur_sec = [F.sum(F.when(all_conds[x], F.col(\"actual_call_dur_sec\"))).cast(\"double\").alias(names_sec[x]) \\\n",
        "         for x in range(len(all_conds))]"
      ],
      "execution_count": 19,
      "outputs": []
    },
    {
      "cell_type": "code",
      "metadata": {
        "colab": {
          "base_uri": "https://localhost:8080/"
        },
        "id": "C-qkny68eeoU",
        "outputId": "1ec282eb-f2cd-40f1-af92-b34fe222a693"
      },
      "source": [
        "voice_traffic = dataset.groupby(\"client_id\", \"time_key\")\\\n",
        ".agg(*(exprs_num_of_calls + exprs_actual_call_dur_sec))\\\n",
        ".select([\"client_id\", \"time_key\"] + names_call + names_sec)\n",
        "\n",
        "time_expr = F.to_timestamp(F.col(\"time_key\").substr(2, 8), 'yyyyMMdd')\n",
        "voice_traffic = voice_traffic.withColumn(\"time_key\",\n",
        "                                         time_expr.substr(1, 10))\n",
        "\n",
        "#voice_traffic.show(10, truncate=False)"
      ],
      "execution_count": 20,
      "outputs": [
        {
          "output_type": "stream",
          "name": "stdout",
          "text": [
            "+---------+----------+------------+------------------+----------------------+-------------------+-------------+-----------------------+-------------------------+--------------------------+-----------------------+-------------+-----------------------+---------------------------+-------------------+------------+------------------+----------------------+---------------------------+\n",
            "|client_id|time_key  |voice_in_cnt|voice_onnet_in_cnt|voice_intercity_in_cnt|voice_onnet_out_cnt|voice_out_cnt|voice_intercity_out_cnt|voice_intenational_in_cnt|voice_international_in_sec|voice_intercity_out_sec|voice_out_sec|voice_out_nopackage_sec|voice_international_out_cnt|voice_onnet_out_sec|voice_in_sec|voice_onnet_in_sec|voice_intercity_in_sec|voice_international_out_sec|\n",
            "+---------+----------+------------+------------------+----------------------+-------------------+-------------+-----------------------+-------------------------+--------------------------+-----------------------+-------------+-----------------------+---------------------------+-------------------+------------+------------------+----------------------+---------------------------+\n",
            "|0730208  |2017-10-25|7.0         |null              |7.0                   |null               |6.0          |1.0                    |null                     |null                      |202.0                  |1207.0       |null                   |null                       |null               |1284.0      |null              |1284.0                |null                       |\n",
            "|0725527  |2017-10-21|5.0         |4.0               |0.0                   |5.0                |6.0          |2.0                    |null                     |null                      |96.0                   |358.0        |null                   |null                       |262.0              |533.0       |390.0             |96.0                  |null                       |\n",
            "|0734188  |2017-10-20|4.0         |2.0               |1.0                   |3.0                |4.0          |3.0                    |null                     |null                      |1994.0                 |3128.0       |null                   |null                       |2186.0             |1108.0      |863.0             |136.0                 |null                       |\n",
            "|0733202  |2017-10-21|8.0         |3.0               |1.0                   |null               |10.0         |4.0                    |null                     |null                      |506.0                  |1149.0       |192.0                  |null                       |null               |1226.0      |470.0             |117.0                 |null                       |\n",
            "|0733561  |2017-10-24|5.0         |5.0               |null                  |3.0                |3.0          |null                   |null                     |null                      |null                   |1954.0       |null                   |null                       |1954.0             |1316.0      |1316.0            |null                  |null                       |\n",
            "|0722239  |2017-10-25|2.0         |null              |2.0                   |1.0                |6.0          |3.0                    |null                     |null                      |2455.0                 |2670.0       |null                   |null                       |191.0              |207.0       |null              |111.0                 |null                       |\n",
            "|0731839  |2017-10-26|5.0         |2.0               |2.0                   |null               |null         |null                   |null                     |null                      |null                   |null         |null                   |null                       |null               |1777.0      |759.0             |905.0                 |null                       |\n",
            "|0732443  |2017-10-20|null        |null              |null                  |null               |null         |null                   |null                     |null                      |null                   |null         |null                   |null                       |null               |null        |null              |null                  |null                       |\n",
            "|0719068  |2017-10-25|1.0         |null              |1.0                   |null               |null         |null                   |null                     |null                      |null                   |null         |null                   |null                       |null               |141.0       |null              |141.0                 |null                       |\n",
            "|0728085  |2017-10-21|null        |null              |null                  |2.0                |2.0          |null                   |null                     |null                      |null                   |113.0        |null                   |null                       |113.0              |null        |null              |null                  |null                       |\n",
            "+---------+----------+------------+------------------+----------------------+-------------------+-------------+-----------------------+-------------------------+--------------------------+-----------------------+-------------+-----------------------+---------------------------+-------------------+------------+------------------+----------------------+---------------------------+\n",
            "only showing top 10 rows\n",
            "\n"
          ]
        }
      ]
    },
    {
      "cell_type": "markdown",
      "metadata": {
        "id": "eE5B4tHbgexP"
      },
      "source": [
        "### Join with data_traffic => client_profile"
      ]
    },
    {
      "cell_type": "code",
      "metadata": {
        "id": "2E_gz6hPSDFI"
      },
      "source": [
        "client_profile = voice_traffic.join(data_traffic, \n",
        "                                    on=[\"client_id\", \"time_key\"], \n",
        "                                    how='full_outer')\n",
        "\n",
        "# колонка \"YYYY-mm\"\n",
        "client_profile = client_profile.withColumn(\"time_key\",\n",
        "                                           F.col(\"time_key\").substr(1, 7))   \n",
        "\n",
        "# agg by month\n",
        "col_list = list(client_profile.drop(\"client_id\", \"time_key\").columns)\n",
        "client_profile = client_profile.groupBy(\"client_id\", \"time_key\").agg(*[F.sum(x).alias(x) for x in col_list])                           "
      ],
      "execution_count": 21,
      "outputs": []
    },
    {
      "cell_type": "code",
      "metadata": {
        "colab": {
          "base_uri": "https://localhost:8080/"
        },
        "id": "pJy_ID2Wjz31",
        "outputId": "47d7d93f-80fa-45ef-a79c-19de20df8d5e"
      },
      "source": [
        "#client_profile.show(10, truncate=False)"
      ],
      "execution_count": 22,
      "outputs": [
        {
          "output_type": "stream",
          "name": "stdout",
          "text": [
            "+---------+--------+------------+------------------+----------------------+-------------------+-------------+-----------------------+-------------------------+--------------------------+-----------------------+-------------+-----------------------+---------------------------+-------------------+------------+------------------+----------------------+---------------------------+-----------------+------------------+-----------------+\n",
            "|client_id|time_key|voice_in_cnt|voice_onnet_in_cnt|voice_intercity_in_cnt|voice_onnet_out_cnt|voice_out_cnt|voice_intercity_out_cnt|voice_intenational_in_cnt|voice_international_in_sec|voice_intercity_out_sec|voice_out_sec|voice_out_nopackage_sec|voice_international_out_cnt|voice_onnet_out_sec|voice_in_sec|voice_onnet_in_sec|voice_intercity_in_sec|voice_international_out_sec|data_4g_mb       |data_all_mb       |data_3g_mb       |\n",
            "+---------+--------+------------+------------------+----------------------+-------------------+-------------+-----------------------+-------------------------+--------------------------+-----------------------+-------------+-----------------------+---------------------------+-------------------+------------+------------------+----------------------+---------------------------+-----------------+------------------+-----------------+\n",
            "|0016532  |2017-10 |27.0        |3.0               |7.0                   |7.0                |84.0         |5.0                    |null                     |null                      |3422.0                 |21243.0      |null                   |null                       |3994.0             |9122.0      |660.0             |589.0                 |null                       |65.22507150278425|67.31759828650623 |2.092526783721976|\n",
            "|0030080  |2017-10 |7.0         |4.0               |null                  |null               |1.0          |null                   |null                     |null                      |null                   |96.0         |null                   |null                       |null               |1285.0      |776.0             |null                  |null                       |null             |null              |null             |\n",
            "|0031519  |2017-10 |7.0         |null              |null                  |null               |3.0          |null                   |1.0                      |275.0                     |null                   |288.0        |null                   |96.0                       |null               |2006.0      |null              |null                  |96.0                       |null             |null              |null             |\n",
            "|0041482  |2017-10 |0.0         |null              |null                  |null               |1.0          |null                   |null                     |null                      |null                   |96.0         |null                   |null                       |null               |96.0        |null              |null                  |null                       |null             |null              |null             |\n",
            "|0042772  |2017-10 |19.0        |16.0              |3.0                   |10.0               |14.0         |null                   |null                     |null                      |null                   |2570.0       |2221.0                 |null                       |2221.0             |4203.0      |3055.0            |860.0                 |null                       |null             |null              |null             |\n",
            "|0043428  |2017-10 |12.0        |5.0               |2.0                   |12.0               |30.0         |1.0                    |null                     |null                      |96.0                   |7121.0       |null                   |null                       |2169.0             |3961.0      |1214.0            |225.0                 |null                       |41457.19920855176|41886.46892063396 |429.2697120822017|\n",
            "|0045958  |2017-10 |null        |null              |null                  |null               |null         |null                   |null                     |null                      |null                   |null         |null                   |null                       |null               |null        |null              |null                  |null                       |203.9690038725027|254.92797674292288|50.95897287042016|\n",
            "|0048282  |2017-10 |2.0         |1.0               |1.0                   |null               |2.0          |2.0                    |null                     |null                      |192.0                  |192.0        |null                   |null                       |null               |210.0       |113.0             |113.0                 |null                       |null             |6.07879918087173  |6.07879918087173 |\n",
            "|0056751  |2017-10 |11.0        |8.0               |3.0                   |2.0                |27.0         |3.0                    |null                     |null                      |462.0                  |1459.0       |null                   |null                       |420.0              |2149.0      |1839.0            |319.0                 |null                       |7368.683095583279|8158.183334539877 |789.5002389565992|\n",
            "|0058635  |2017-10 |0.0         |0.0               |0.0                   |5.0                |5.0          |5.0                    |null                     |null                      |384.0                  |384.0        |null                   |null                       |384.0              |384.0       |384.0             |384.0                 |null                       |null             |null              |null             |\n",
            "+---------+--------+------------+------------------+----------------------+-------------------+-------------+-----------------------+-------------------------+--------------------------+-----------------------+-------------+-----------------------+---------------------------+-------------------+------------+------------------+----------------------+---------------------------+-----------------+------------------+-----------------+\n",
            "only showing top 10 rows\n",
            "\n"
          ]
        }
      ]
    },
    {
      "cell_type": "markdown",
      "metadata": {
        "id": "ZOTKROsAspTs"
      },
      "source": [
        "### Сохранение в MongoDB"
      ]
    },
    {
      "cell_type": "code",
      "metadata": {
        "colab": {
          "base_uri": "https://localhost:8080/"
        },
        "id": "ae5TKtqtCu7H",
        "outputId": "89a976dc-96ea-4194-c886-0798020d530c"
      },
      "source": [
        "!apt install mongodb\n",
        "!service mongodb start"
      ],
      "execution_count": 23,
      "outputs": [
        {
          "output_type": "stream",
          "name": "stdout",
          "text": [
            "Reading package lists... Done\n",
            "Building dependency tree       \n",
            "Reading state information... Done\n",
            "mongodb is already the newest version (1:3.6.3-0ubuntu1.4).\n",
            "0 upgraded, 0 newly installed, 0 to remove and 37 not upgraded.\n",
            " * Starting database mongodb\n",
            "   ...done.\n"
          ]
        }
      ]
    },
    {
      "cell_type": "code",
      "metadata": {
        "colab": {
          "base_uri": "https://localhost:8080/"
        },
        "id": "esDphBzsr6EP",
        "outputId": "8b4c9e87-926c-460d-ba39-0f7784c5d762"
      },
      "source": [
        "import pymongo\n",
        "import json\n",
        "from pymongo import MongoClient, InsertOne\n",
        "\n",
        "client = MongoClient()\n",
        "client.list_database_names()"
      ],
      "execution_count": 24,
      "outputs": [
        {
          "output_type": "execute_result",
          "data": {
            "text/plain": [
              "['admin', 'config', 'local']"
            ]
          },
          "metadata": {},
          "execution_count": 24
        }
      ]
    },
    {
      "cell_type": "code",
      "metadata": {
        "id": "tjATX1f0xRPx"
      },
      "source": [
        "# save data_traffic\n",
        "collection = client.local.data_traffic_collection\n",
        "\n",
        "data_traffic_json = data_traffic.toJSON().collect()\n",
        "requesting = []\n",
        "\n",
        "for jsonObj in data_traffic_json:\n",
        "  myDict = json.loads(jsonObj)\n",
        "  requesting.append(InsertOne(myDict))\n",
        "\n",
        "result = collection.bulk_write(requesting)\n",
        "client.close()"
      ],
      "execution_count": null,
      "outputs": []
    },
    {
      "cell_type": "code",
      "metadata": {
        "id": "heiw6BXVyien"
      },
      "source": [
        "# save voice_traffic\n",
        "collection = client.local.voice_traffic_collection\n",
        "\n",
        "voice_traffic_json = voice_traffic.toJSON().collect()\n",
        "requesting = []\n",
        "\n",
        "for jsonObj in voice_traffic_json:\n",
        "  myDict = json.loads(jsonObj)\n",
        "  requesting.append(InsertOne(myDict))\n",
        "\n",
        "result = collection.bulk_write(requesting)\n",
        "client.close()"
      ],
      "execution_count": null,
      "outputs": []
    },
    {
      "cell_type": "code",
      "metadata": {
        "id": "4eHYEfL1ypHm"
      },
      "source": [
        "# save client_profile\n",
        "collection = client.local.client_profile_collection\n",
        "\n",
        "client_profile_json = client_profile.toJSON().collect()\n",
        "requesting = []\n",
        "\n",
        "for jsonObj in client_profile_json:\n",
        "  myDict = json.loads(jsonObj)\n",
        "  requesting.append(InsertOne(myDict))\n",
        "\n",
        "result = collection.bulk_write(requesting)\n",
        "client.close()"
      ],
      "execution_count": null,
      "outputs": []
    },
    {
      "cell_type": "markdown",
      "metadata": {
        "id": "8mx77jrEMe3G"
      },
      "source": [
        "### Был вариант сохранения в SQLlite"
      ]
    },
    {
      "cell_type": "code",
      "metadata": {
        "colab": {
          "base_uri": "https://localhost:8080/",
          "height": 70
        },
        "id": "MtXpd_6vzv7S",
        "outputId": "48449b20-eeba-4182-c7f7-ef379e32bcd0"
      },
      "source": [
        "\"\"\"\n",
        "!curl https://www.sqlite.org/src/tarball/sqlite.tar.gz?r=release | tar xz\n",
        "%cd sqlite/\n",
        "!./configure\n",
        "!make sqlite3.c\n",
        "%cd /content\n",
        "!npx degit coleifer/pysqlite3 -f\n",
        "!cp sqlite/sqlite3.[ch] .\n",
        "!python setup.py build_static build\n",
        "!cp build/lib.linux-x86_64-3.7/pysqlite3/_sqlite3.cpython-37m-x86_64-linux-gnu.so \\\n",
        "     /usr/lib/python3.7/lib-dynload/\n",
        "\"\"\""
      ],
      "execution_count": 34,
      "outputs": [
        {
          "output_type": "execute_result",
          "data": {
            "application/vnd.google.colaboratory.intrinsic+json": {
              "type": "string"
            },
            "text/plain": [
              "'\\n!curl https://www.sqlite.org/src/tarball/sqlite.tar.gz?r=release | tar xz\\n%cd sqlite/\\n!./configure\\n!make sqlite3.c\\n%cd /content\\n!npx degit coleifer/pysqlite3 -f\\n!cp sqlite/sqlite3.[ch] .\\n!python setup.py build_static build\\n!cp build/lib.linux-x86_64-3.7/pysqlite3/_sqlite3.cpython-37m-x86_64-linux-gnu.so      /usr/lib/python3.7/lib-dynload/\\n'"
            ]
          },
          "metadata": {},
          "execution_count": 34
        }
      ]
    },
    {
      "cell_type": "code",
      "metadata": {
        "id": "5srsfShQGHtd"
      },
      "source": [
        "\"\"\"\n",
        "import sqlite3\n",
        "from sqlite3 import Error\n",
        "\n",
        "create_connection(r\"C:\\sqlite\\db\\pythonsqlite.db\")\n",
        "cnx = sqlite3.connect(':memory:')\n",
        "\"\"\""
      ],
      "execution_count": null,
      "outputs": []
    },
    {
      "cell_type": "code",
      "metadata": {
        "id": "NsUSbVxHIOmm"
      },
      "source": [
        "\"\"\"\n",
        "data_traffic.toPandas().to_sql(name='data_traffic', con=cnx)\n",
        "voice_traffic.toPandas().to_sql(name='voice_traffic', con=cnx)\n",
        "client_profile.toPandas().to_sql(name='client_profile', con=cnx)\n",
        "\"\"\""
      ],
      "execution_count": null,
      "outputs": []
    },
    {
      "cell_type": "markdown",
      "metadata": {
        "id": "9f-FKvUvIq9h"
      },
      "source": [
        "### Попытки поднять AeroSpike увенчались провалом"
      ]
    },
    {
      "cell_type": "code",
      "metadata": {
        "id": "ZMyyLTVH1v3P"
      },
      "source": [
        "\"\"\"\n",
        "!wget -O aerospike.tgz https://ru.aerospike.com/download/server/5.7.0.8/artifact/ubuntu18\n",
        "!tar -xvf aerospike.tgz\n",
        "%cd aerospike-server-community-5.7.0.8-ubuntu18.04\n",
        "!./asinstall\n",
        "#!service --status-all\n",
        "#!service aerospike start\n",
        "\"\"\""
      ],
      "execution_count": null,
      "outputs": []
    },
    {
      "cell_type": "code",
      "metadata": {
        "id": "aeXHG6ya4sZL"
      },
      "source": [
        "\"\"\"\n",
        "# IP Address or DNS name for one host in your Aerospike cluster\n",
        "AS_HOST =\"35.188.254.184\"\n",
        "# Name of one of your namespaces. Type 'show namespaces' at the aql prompt if you are not sure\n",
        "AS_NAMESPACE = \"test\" \n",
        "AEROSPIKE_SPARK_JAR_VERSION=\"3.1.0\"\n",
        "AS_PORT = 3000 # Usually 3000, but change here if not\n",
        "AS_CONNECTION_STRING = AS_HOST + \":\"+ str(AS_PORT)\n",
        "\n",
        "import os \n",
        "AEROSPIKE_JAR_PATH= \"aerospike-spark-assembly-\"+AEROSPIKE_SPARK_JAR_VERSION+\".jar\"\n",
        "os.environ[\"PYSPARK_SUBMIT_ARGS\"] = '--jars ' + AEROSPIKE_JAR_PATH + ' pyspark-shell'\n",
        "\"\"\""
      ],
      "execution_count": null,
      "outputs": []
    },
    {
      "cell_type": "code",
      "metadata": {
        "colab": {
          "base_uri": "https://localhost:8080/",
          "height": 849
        },
        "id": "wGyoh5T9MgnS",
        "outputId": "33ddc132-8a5f-47d0-a829-5385a10bc808"
      },
      "source": [
        "\"\"\"\n",
        "# Write data_traffic to Aerospike\n",
        "\n",
        "dataset \\\n",
        ".write \\\n",
        ".mode('overwrite') \\\n",
        ".format(\"aerospike\")  \\\n",
        ".option(\"aerospike.writeset\", \"data_traffic\")\\\n",
        ".option(\"aerospike.updateByKey\", \"client_id\") \\\n",
        ".save()\n",
        "\"\"\""
      ],
      "execution_count": null,
      "outputs": [
        {
          "output_type": "error",
          "ename": "Py4JJavaError",
          "evalue": "ignored",
          "traceback": [
            "\u001b[0;31m---------------------------------------------------------------------------\u001b[0m",
            "\u001b[0;31mPy4JJavaError\u001b[0m                             Traceback (most recent call last)",
            "\u001b[0;32m<ipython-input-15-5cad4aca4454>\u001b[0m in \u001b[0;36m<module>\u001b[0;34m()\u001b[0m\n\u001b[1;32m      1\u001b[0m \u001b[0;31m# Write data_traffic to Aerospike\u001b[0m\u001b[0;34m\u001b[0m\u001b[0;34m\u001b[0m\u001b[0;34m\u001b[0m\u001b[0m\n\u001b[1;32m      2\u001b[0m \u001b[0;34m\u001b[0m\u001b[0m\n\u001b[0;32m----> 3\u001b[0;31m \u001b[0mdataset\u001b[0m \u001b[0;34m.\u001b[0m\u001b[0mwrite\u001b[0m \u001b[0;34m.\u001b[0m\u001b[0mmode\u001b[0m\u001b[0;34m(\u001b[0m\u001b[0;34m'overwrite'\u001b[0m\u001b[0;34m)\u001b[0m \u001b[0;34m.\u001b[0m\u001b[0mformat\u001b[0m\u001b[0;34m(\u001b[0m\u001b[0;34m\"aerospike\"\u001b[0m\u001b[0;34m)\u001b[0m  \u001b[0;34m.\u001b[0m\u001b[0moption\u001b[0m\u001b[0;34m(\u001b[0m\u001b[0;34m\"aerospike.writeset\"\u001b[0m\u001b[0;34m,\u001b[0m \u001b[0;34m\"data_traffic\"\u001b[0m\u001b[0;34m)\u001b[0m\u001b[0;34m.\u001b[0m\u001b[0moption\u001b[0m\u001b[0;34m(\u001b[0m\u001b[0;34m\"aerospike.updateByKey\"\u001b[0m\u001b[0;34m,\u001b[0m \u001b[0;34m\"client_id\"\u001b[0m\u001b[0;34m)\u001b[0m \u001b[0;34m.\u001b[0m\u001b[0msave\u001b[0m\u001b[0;34m(\u001b[0m\u001b[0;34m)\u001b[0m\u001b[0;34m\u001b[0m\u001b[0;34m\u001b[0m\u001b[0m\n\u001b[0m",
            "\u001b[0;32m/content/spark-3.0.0-bin-hadoop3.2/python/pyspark/sql/readwriter.py\u001b[0m in \u001b[0;36msave\u001b[0;34m(self, path, format, mode, partitionBy, **options)\u001b[0m\n\u001b[1;32m    823\u001b[0m             \u001b[0mself\u001b[0m\u001b[0;34m.\u001b[0m\u001b[0mformat\u001b[0m\u001b[0;34m(\u001b[0m\u001b[0mformat\u001b[0m\u001b[0;34m)\u001b[0m\u001b[0;34m\u001b[0m\u001b[0;34m\u001b[0m\u001b[0m\n\u001b[1;32m    824\u001b[0m         \u001b[0;32mif\u001b[0m \u001b[0mpath\u001b[0m \u001b[0;32mis\u001b[0m \u001b[0;32mNone\u001b[0m\u001b[0;34m:\u001b[0m\u001b[0;34m\u001b[0m\u001b[0;34m\u001b[0m\u001b[0m\n\u001b[0;32m--> 825\u001b[0;31m             \u001b[0mself\u001b[0m\u001b[0;34m.\u001b[0m\u001b[0m_jwrite\u001b[0m\u001b[0;34m.\u001b[0m\u001b[0msave\u001b[0m\u001b[0;34m(\u001b[0m\u001b[0;34m)\u001b[0m\u001b[0;34m\u001b[0m\u001b[0;34m\u001b[0m\u001b[0m\n\u001b[0m\u001b[1;32m    826\u001b[0m         \u001b[0;32melse\u001b[0m\u001b[0;34m:\u001b[0m\u001b[0;34m\u001b[0m\u001b[0;34m\u001b[0m\u001b[0m\n\u001b[1;32m    827\u001b[0m             \u001b[0mself\u001b[0m\u001b[0;34m.\u001b[0m\u001b[0m_jwrite\u001b[0m\u001b[0;34m.\u001b[0m\u001b[0msave\u001b[0m\u001b[0;34m(\u001b[0m\u001b[0mpath\u001b[0m\u001b[0;34m)\u001b[0m\u001b[0;34m\u001b[0m\u001b[0;34m\u001b[0m\u001b[0m\n",
            "\u001b[0;32m/content/spark-3.0.0-bin-hadoop3.2/python/lib/py4j-0.10.9-src.zip/py4j/java_gateway.py\u001b[0m in \u001b[0;36m__call__\u001b[0;34m(self, *args)\u001b[0m\n\u001b[1;32m   1303\u001b[0m         \u001b[0manswer\u001b[0m \u001b[0;34m=\u001b[0m \u001b[0mself\u001b[0m\u001b[0;34m.\u001b[0m\u001b[0mgateway_client\u001b[0m\u001b[0;34m.\u001b[0m\u001b[0msend_command\u001b[0m\u001b[0;34m(\u001b[0m\u001b[0mcommand\u001b[0m\u001b[0;34m)\u001b[0m\u001b[0;34m\u001b[0m\u001b[0;34m\u001b[0m\u001b[0m\n\u001b[1;32m   1304\u001b[0m         return_value = get_return_value(\n\u001b[0;32m-> 1305\u001b[0;31m             answer, self.gateway_client, self.target_id, self.name)\n\u001b[0m\u001b[1;32m   1306\u001b[0m \u001b[0;34m\u001b[0m\u001b[0m\n\u001b[1;32m   1307\u001b[0m         \u001b[0;32mfor\u001b[0m \u001b[0mtemp_arg\u001b[0m \u001b[0;32min\u001b[0m \u001b[0mtemp_args\u001b[0m\u001b[0;34m:\u001b[0m\u001b[0;34m\u001b[0m\u001b[0;34m\u001b[0m\u001b[0m\n",
            "\u001b[0;32m/content/spark-3.0.0-bin-hadoop3.2/python/pyspark/sql/utils.py\u001b[0m in \u001b[0;36mdeco\u001b[0;34m(*a, **kw)\u001b[0m\n\u001b[1;32m    129\u001b[0m     \u001b[0;32mdef\u001b[0m \u001b[0mdeco\u001b[0m\u001b[0;34m(\u001b[0m\u001b[0;34m*\u001b[0m\u001b[0ma\u001b[0m\u001b[0;34m,\u001b[0m \u001b[0;34m**\u001b[0m\u001b[0mkw\u001b[0m\u001b[0;34m)\u001b[0m\u001b[0;34m:\u001b[0m\u001b[0;34m\u001b[0m\u001b[0;34m\u001b[0m\u001b[0m\n\u001b[1;32m    130\u001b[0m         \u001b[0;32mtry\u001b[0m\u001b[0;34m:\u001b[0m\u001b[0;34m\u001b[0m\u001b[0;34m\u001b[0m\u001b[0m\n\u001b[0;32m--> 131\u001b[0;31m             \u001b[0;32mreturn\u001b[0m \u001b[0mf\u001b[0m\u001b[0;34m(\u001b[0m\u001b[0;34m*\u001b[0m\u001b[0ma\u001b[0m\u001b[0;34m,\u001b[0m \u001b[0;34m**\u001b[0m\u001b[0mkw\u001b[0m\u001b[0;34m)\u001b[0m\u001b[0;34m\u001b[0m\u001b[0;34m\u001b[0m\u001b[0m\n\u001b[0m\u001b[1;32m    132\u001b[0m         \u001b[0;32mexcept\u001b[0m \u001b[0mpy4j\u001b[0m\u001b[0;34m.\u001b[0m\u001b[0mprotocol\u001b[0m\u001b[0;34m.\u001b[0m\u001b[0mPy4JJavaError\u001b[0m \u001b[0;32mas\u001b[0m \u001b[0me\u001b[0m\u001b[0;34m:\u001b[0m\u001b[0;34m\u001b[0m\u001b[0;34m\u001b[0m\u001b[0m\n\u001b[1;32m    133\u001b[0m             \u001b[0mconverted\u001b[0m \u001b[0;34m=\u001b[0m \u001b[0mconvert_exception\u001b[0m\u001b[0;34m(\u001b[0m\u001b[0me\u001b[0m\u001b[0;34m.\u001b[0m\u001b[0mjava_exception\u001b[0m\u001b[0;34m)\u001b[0m\u001b[0;34m\u001b[0m\u001b[0;34m\u001b[0m\u001b[0m\n",
            "\u001b[0;32m/content/spark-3.0.0-bin-hadoop3.2/python/lib/py4j-0.10.9-src.zip/py4j/protocol.py\u001b[0m in \u001b[0;36mget_return_value\u001b[0;34m(answer, gateway_client, target_id, name)\u001b[0m\n\u001b[1;32m    326\u001b[0m                 raise Py4JJavaError(\n\u001b[1;32m    327\u001b[0m                     \u001b[0;34m\"An error occurred while calling {0}{1}{2}.\\n\"\u001b[0m\u001b[0;34m.\u001b[0m\u001b[0;34m\u001b[0m\u001b[0;34m\u001b[0m\u001b[0m\n\u001b[0;32m--> 328\u001b[0;31m                     format(target_id, \".\", name), value)\n\u001b[0m\u001b[1;32m    329\u001b[0m             \u001b[0;32melse\u001b[0m\u001b[0;34m:\u001b[0m\u001b[0;34m\u001b[0m\u001b[0;34m\u001b[0m\u001b[0m\n\u001b[1;32m    330\u001b[0m                 raise Py4JError(\n",
            "\u001b[0;31mPy4JJavaError\u001b[0m: An error occurred while calling o43.save.\n: java.lang.ClassNotFoundException: Failed to find data source: aerospike. Please find packages at http://spark.apache.org/third-party-projects.html\n\tat org.apache.spark.sql.execution.datasources.DataSource$.lookupDataSource(DataSource.scala:674)\n\tat org.apache.spark.sql.execution.datasources.DataSource$.lookupDataSourceV2(DataSource.scala:728)\n\tat org.apache.spark.sql.DataFrameWriter.lookupV2Provider(DataFrameWriter.scala:948)\n\tat org.apache.spark.sql.DataFrameWriter.save(DataFrameWriter.scala:285)\n\tat sun.reflect.NativeMethodAccessorImpl.invoke0(Native Method)\n\tat sun.reflect.NativeMethodAccessorImpl.invoke(NativeMethodAccessorImpl.java:62)\n\tat sun.reflect.DelegatingMethodAccessorImpl.invoke(DelegatingMethodAccessorImpl.java:43)\n\tat java.lang.reflect.Method.invoke(Method.java:498)\n\tat py4j.reflection.MethodInvoker.invoke(MethodInvoker.java:244)\n\tat py4j.reflection.ReflectionEngine.invoke(ReflectionEngine.java:357)\n\tat py4j.Gateway.invoke(Gateway.java:282)\n\tat py4j.commands.AbstractCommand.invokeMethod(AbstractCommand.java:132)\n\tat py4j.commands.CallCommand.execute(CallCommand.java:79)\n\tat py4j.GatewayConnection.run(GatewayConnection.java:238)\n\tat java.lang.Thread.run(Thread.java:748)\nCaused by: java.lang.ClassNotFoundException: aerospike.DefaultSource\n\tat java.net.URLClassLoader.findClass(URLClassLoader.java:382)\n\tat java.lang.ClassLoader.loadClass(ClassLoader.java:418)\n\tat java.lang.ClassLoader.loadClass(ClassLoader.java:351)\n\tat org.apache.spark.sql.execution.datasources.DataSource$.$anonfun$lookupDataSource$5(DataSource.scala:648)\n\tat scala.util.Try$.apply(Try.scala:213)\n\tat org.apache.spark.sql.execution.datasources.DataSource$.$anonfun$lookupDataSource$4(DataSource.scala:648)\n\tat scala.util.Failure.orElse(Try.scala:224)\n\tat org.apache.spark.sql.execution.datasources.DataSource$.lookupDataSource(DataSource.scala:648)\n\t... 14 more\n"
          ]
        }
      ]
    }
  ]
}